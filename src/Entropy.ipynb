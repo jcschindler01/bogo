{
 "cells": [
  {
   "cell_type": "code",
   "execution_count": 1,
   "id": "e40dc945",
   "metadata": {},
   "outputs": [],
   "source": [
    "import numpy as np\n",
    "import bogo as bg\n",
    "import matplotlib.pyplot as plt\n",
    "from scipy.special import factorial as fac\n",
    "import time"
   ]
  },
  {
   "cell_type": "code",
   "execution_count": 2,
   "id": "0a8d9c6b",
   "metadata": {},
   "outputs": [],
   "source": [
    "def OE(p,V):\n",
    "    '''Returns observational entropy given probabilities and volumes of macrostates.'''\n",
    "    logp = np.log2(p[p!=0.])\n",
    "    logV = np.log2(V)\n",
    "\n",
    "    Shannon = -np.dot(p[p!=0.],logp)\n",
    "    Boltzmann = np.dot(p,logV)\n",
    "    Total = Shannon+Boltzmann\n",
    "\n",
    "    return Shannon, Boltzmann, Total"
   ]
  },
  {
   "cell_type": "code",
   "execution_count": 3,
   "id": "6c11991e",
   "metadata": {},
   "outputs": [],
   "source": [
    "def degeneracy(N,Trunc):\n",
    "    '''Degeneracy (volume) of each local energy macrostate.\n",
    "    N is the number of oscillators and Trunc the max level.'''\n",
    "    arr = []\n",
    "    for i in range(Trunc+1):\n",
    "        arr.append((fac(N+i-1))/(fac(i)*fac(N-1)))\n",
    "    return np.array(arr)"
   ]
  },
  {
   "cell_type": "code",
   "execution_count": 6,
   "id": "1c07224b",
   "metadata": {},
   "outputs": [],
   "source": [
    "def prob(nA,M,Trunc):\n",
    "    '''Return probabilities of laying in a certain macrostate.'''\n",
    "    N = len(nA)\n",
    "    arr = []\n",
    "    for j in range(Trunc+1):\n",
    "        nas = bg.n_subspace(N,j)\n",
    "        arr.append(np.sum(np.array([np.abs(bg.aA(na_i,nA,M))**2 for na_i in nas])))\n",
    "    return np.array(arr)"
   ]
  },
  {
   "cell_type": "code",
   "execution_count": 8,
   "id": "cfb5d7ca",
   "metadata": {},
   "outputs": [
    {
     "ename": "IndexError",
     "evalue": "index 0 is out of bounds for axis 0 with size 0",
     "output_type": "error",
     "traceback": [
      "\u001b[1;31m---------------------------------------------------------------------------\u001b[0m",
      "\u001b[1;31mIndexError\u001b[0m                                Traceback (most recent call last)",
      "Input \u001b[1;32mIn [8]\u001b[0m, in \u001b[0;36m<cell line: 12>\u001b[1;34m()\u001b[0m\n\u001b[0;32m     10\u001b[0m V \u001b[38;5;241m=\u001b[39m degeneracy(N,Trunc)\n\u001b[0;32m     11\u001b[0m t1 \u001b[38;5;241m=\u001b[39m time\u001b[38;5;241m.\u001b[39mtime()\n\u001b[1;32m---> 12\u001b[0m p \u001b[38;5;241m=\u001b[39m \u001b[43mprob\u001b[49m\u001b[43m(\u001b[49m\u001b[43mnA\u001b[49m\u001b[43m,\u001b[49m\u001b[43mM\u001b[49m\u001b[43m,\u001b[49m\u001b[43mTrunc\u001b[49m\u001b[43m)\u001b[49m\n\u001b[0;32m     13\u001b[0m t2 \u001b[38;5;241m=\u001b[39m time\u001b[38;5;241m.\u001b[39mtime()\n\u001b[0;32m     14\u001b[0m OE \u001b[38;5;241m=\u001b[39m OE(p,V)\n",
      "Input \u001b[1;32mIn [6]\u001b[0m, in \u001b[0;36mprob\u001b[1;34m(nA, M, Trunc)\u001b[0m\n\u001b[0;32m      5\u001b[0m \u001b[38;5;28;01mfor\u001b[39;00m j \u001b[38;5;129;01min\u001b[39;00m \u001b[38;5;28mrange\u001b[39m(Trunc\u001b[38;5;241m+\u001b[39m\u001b[38;5;241m1\u001b[39m):\n\u001b[0;32m      6\u001b[0m     nas \u001b[38;5;241m=\u001b[39m bg\u001b[38;5;241m.\u001b[39mn_subspace(N,j)\n\u001b[1;32m----> 7\u001b[0m     arr\u001b[38;5;241m.\u001b[39mappend(np\u001b[38;5;241m.\u001b[39msum(np\u001b[38;5;241m.\u001b[39marray([np\u001b[38;5;241m.\u001b[39mabs(bg\u001b[38;5;241m.\u001b[39maA(na_i,nA,M))\u001b[38;5;241m*\u001b[39m\u001b[38;5;241m*\u001b[39m\u001b[38;5;241m2\u001b[39m \u001b[38;5;28;01mfor\u001b[39;00m na_i \u001b[38;5;129;01min\u001b[39;00m nas])))\n\u001b[0;32m      8\u001b[0m \u001b[38;5;28;01mreturn\u001b[39;00m np\u001b[38;5;241m.\u001b[39marray(arr)\n",
      "Input \u001b[1;32mIn [6]\u001b[0m, in \u001b[0;36m<listcomp>\u001b[1;34m(.0)\u001b[0m\n\u001b[0;32m      5\u001b[0m \u001b[38;5;28;01mfor\u001b[39;00m j \u001b[38;5;129;01min\u001b[39;00m \u001b[38;5;28mrange\u001b[39m(Trunc\u001b[38;5;241m+\u001b[39m\u001b[38;5;241m1\u001b[39m):\n\u001b[0;32m      6\u001b[0m     nas \u001b[38;5;241m=\u001b[39m bg\u001b[38;5;241m.\u001b[39mn_subspace(N,j)\n\u001b[1;32m----> 7\u001b[0m     arr\u001b[38;5;241m.\u001b[39mappend(np\u001b[38;5;241m.\u001b[39msum(np\u001b[38;5;241m.\u001b[39marray([np\u001b[38;5;241m.\u001b[39mabs(\u001b[43mbg\u001b[49m\u001b[38;5;241;43m.\u001b[39;49m\u001b[43maA\u001b[49m\u001b[43m(\u001b[49m\u001b[43mna_i\u001b[49m\u001b[43m,\u001b[49m\u001b[43mnA\u001b[49m\u001b[43m,\u001b[49m\u001b[43mM\u001b[49m\u001b[43m)\u001b[49m)\u001b[38;5;241m*\u001b[39m\u001b[38;5;241m*\u001b[39m\u001b[38;5;241m2\u001b[39m \u001b[38;5;28;01mfor\u001b[39;00m na_i \u001b[38;5;129;01min\u001b[39;00m nas])))\n\u001b[0;32m      8\u001b[0m \u001b[38;5;28;01mreturn\u001b[39;00m np\u001b[38;5;241m.\u001b[39marray(arr)\n",
      "File \u001b[1;32m~\\bogo\\src\\bogo.py:165\u001b[0m, in \u001b[0;36maA\u001b[1;34m(na, nA, M)\u001b[0m\n\u001b[0;32m    162\u001b[0m         states_in_subspace\u001b[38;5;241m.\u001b[39mappend(state)\n\u001b[0;32m    163\u001b[0m subspace \u001b[38;5;241m=\u001b[39m np\u001b[38;5;241m.\u001b[39marray(states_in_subspace)\n\u001b[1;32m--> 165\u001b[0m f \u001b[38;5;241m=\u001b[39m np\u001b[38;5;241m.\u001b[39marray([ab(na,sb,M) \u001b[38;5;28;01mfor\u001b[39;00m sb \u001b[38;5;129;01min\u001b[39;00m subspace])\n\u001b[0;32m    166\u001b[0m s \u001b[38;5;241m=\u001b[39m np\u001b[38;5;241m.\u001b[39marray([bA(sb,nA,M) \u001b[38;5;28;01mfor\u001b[39;00m sb \u001b[38;5;129;01min\u001b[39;00m subspace])\n\u001b[0;32m    168\u001b[0m \u001b[38;5;28;01mreturn\u001b[39;00m np\u001b[38;5;241m.\u001b[39mdot(f,s)\n",
      "File \u001b[1;32m~\\bogo\\src\\bogo.py:165\u001b[0m, in \u001b[0;36m<listcomp>\u001b[1;34m(.0)\u001b[0m\n\u001b[0;32m    162\u001b[0m         states_in_subspace\u001b[38;5;241m.\u001b[39mappend(state)\n\u001b[0;32m    163\u001b[0m subspace \u001b[38;5;241m=\u001b[39m np\u001b[38;5;241m.\u001b[39marray(states_in_subspace)\n\u001b[1;32m--> 165\u001b[0m f \u001b[38;5;241m=\u001b[39m np\u001b[38;5;241m.\u001b[39marray([\u001b[43mab\u001b[49m\u001b[43m(\u001b[49m\u001b[43mna\u001b[49m\u001b[43m,\u001b[49m\u001b[43msb\u001b[49m\u001b[43m,\u001b[49m\u001b[43mM\u001b[49m\u001b[43m)\u001b[49m \u001b[38;5;28;01mfor\u001b[39;00m sb \u001b[38;5;129;01min\u001b[39;00m subspace])\n\u001b[0;32m    166\u001b[0m s \u001b[38;5;241m=\u001b[39m np\u001b[38;5;241m.\u001b[39marray([bA(sb,nA,M) \u001b[38;5;28;01mfor\u001b[39;00m sb \u001b[38;5;129;01min\u001b[39;00m subspace])\n\u001b[0;32m    168\u001b[0m \u001b[38;5;28;01mreturn\u001b[39;00m np\u001b[38;5;241m.\u001b[39mdot(f,s)\n",
      "File \u001b[1;32m~\\bogo\\src\\bogo.py:110\u001b[0m, in \u001b[0;36mab\u001b[1;34m(na, nb, M)\u001b[0m\n\u001b[0;32m     88\u001b[0m     \u001b[38;5;66;03m#version 1 (the one we worked with in the meeting):\u001b[39;00m\n\u001b[0;32m     89\u001b[0m \u001b[38;5;66;03m#     for k in range(len(unique_perms)):\u001b[39;00m\n\u001b[0;32m     90\u001b[0m \u001b[38;5;66;03m#         r = 1\u001b[39;00m\n\u001b[1;32m   (...)\u001b[0m\n\u001b[0;32m    106\u001b[0m \n\u001b[0;32m    107\u001b[0m     \u001b[38;5;66;03m# version multipermute\u001b[39;00m\n\u001b[0;32m    108\u001b[0m     sym \u001b[38;5;241m=\u001b[39m np\u001b[38;5;241m.\u001b[39mprod(fac(nb))\n\u001b[1;32m--> 110\u001b[0m     \u001b[38;5;28;01mfor\u001b[39;00m bf \u001b[38;5;129;01min\u001b[39;00m mperm(sb):\n\u001b[0;32m    111\u001b[0m         sum_result \u001b[38;5;241m+\u001b[39m\u001b[38;5;241m=\u001b[39m sym\u001b[38;5;241m*\u001b[39mnp\u001b[38;5;241m.\u001b[39mprod([RR[sa[z],bf[z]] \u001b[38;5;28;01mfor\u001b[39;00m z \u001b[38;5;129;01min\u001b[39;00m \u001b[38;5;28mrange\u001b[39m(np\u001b[38;5;241m.\u001b[39msum(na))])\n\u001b[0;32m    114\u001b[0m     \u001b[38;5;28;01mreturn\u001b[39;00m prefactor\u001b[38;5;241m*\u001b[39msum_result\n",
      "File \u001b[1;32m~\\bogo\\src\\multipermute.py:74\u001b[0m, in \u001b[0;36mpermutations\u001b[1;34m(multiset)\u001b[0m\n\u001b[0;32m     72\u001b[0m \u001b[38;5;28;01mdef\u001b[39;00m \u001b[38;5;21mpermutations\u001b[39m(multiset):\n\u001b[0;32m     73\u001b[0m     \u001b[38;5;124;03m\"\"\"Generator providing all multiset permutations of a multiset.\"\"\"\u001b[39;00m\n\u001b[1;32m---> 74\u001b[0m     h, i, j \u001b[38;5;241m=\u001b[39m \u001b[43minit\u001b[49m\u001b[43m(\u001b[49m\u001b[43mmultiset\u001b[49m\u001b[43m)\u001b[49m\n\u001b[0;32m     75\u001b[0m     \u001b[38;5;28;01myield\u001b[39;00m visit(h)\n\u001b[0;32m     76\u001b[0m     \u001b[38;5;28;01mwhile\u001b[39;00m j\u001b[38;5;241m.\u001b[39mnext \u001b[38;5;129;01mis\u001b[39;00m \u001b[38;5;129;01mnot\u001b[39;00m \u001b[38;5;28;01mNone\u001b[39;00m \u001b[38;5;129;01mor\u001b[39;00m j\u001b[38;5;241m.\u001b[39mvalue \u001b[38;5;241m<\u001b[39m h\u001b[38;5;241m.\u001b[39mvalue:\n",
      "File \u001b[1;32m~\\bogo\\src\\multipermute.py:58\u001b[0m, in \u001b[0;36minit\u001b[1;34m(multiset)\u001b[0m\n\u001b[0;32m     56\u001b[0m \u001b[38;5;28;01mdef\u001b[39;00m \u001b[38;5;21minit\u001b[39m(multiset):\n\u001b[0;32m     57\u001b[0m     multiset\u001b[38;5;241m.\u001b[39msort() \u001b[38;5;66;03m# ensures proper non-increasing order\u001b[39;00m\n\u001b[1;32m---> 58\u001b[0m     h \u001b[38;5;241m=\u001b[39m ListElement(\u001b[43mmultiset\u001b[49m\u001b[43m[\u001b[49m\u001b[38;5;241;43m0\u001b[39;49m\u001b[43m]\u001b[49m, \u001b[38;5;28;01mNone\u001b[39;00m)\n\u001b[0;32m     59\u001b[0m     \u001b[38;5;28;01mfor\u001b[39;00m item \u001b[38;5;129;01min\u001b[39;00m multiset[\u001b[38;5;241m1\u001b[39m:]:\n\u001b[0;32m     60\u001b[0m         h \u001b[38;5;241m=\u001b[39m ListElement(item, h)\n",
      "\u001b[1;31mIndexError\u001b[0m: index 0 is out of bounds for axis 0 with size 0"
     ]
    }
   ],
   "source": [
    "mu = 0.5\n",
    "M = np.array([[1,-mu],[-mu,1]])\n",
    "\n",
    "nA = np.array([0,1])\n",
    "N = len(nA)\n",
    "\n",
    "Trunc = 9\n",
    "\n",
    "t0 = time.time()\n",
    "V = degeneracy(N,Trunc)\n",
    "t1 = time.time()\n",
    "p = prob(nA,M,Trunc)\n",
    "t2 = time.time()\n",
    "OE = OE(p,V)\n",
    "t3 = time.time()\n",
    "\n",
    "print(OE)\n",
    "print(t1-t0)\n",
    "print(t2-t1)\n",
    "print(t3-t2)"
   ]
  }
 ],
 "metadata": {
  "kernelspec": {
   "display_name": "Python 3 (ipykernel)",
   "language": "python",
   "name": "python3"
  },
  "language_info": {
   "codemirror_mode": {
    "name": "ipython",
    "version": 3
   },
   "file_extension": ".py",
   "mimetype": "text/x-python",
   "name": "python",
   "nbconvert_exporter": "python",
   "pygments_lexer": "ipython3",
   "version": "3.9.12"
  }
 },
 "nbformat": 4,
 "nbformat_minor": 5
}
