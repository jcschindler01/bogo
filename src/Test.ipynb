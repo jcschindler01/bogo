{
 "cells": [
  {
   "cell_type": "code",
   "execution_count": 1,
   "id": "96b8beaf",
   "metadata": {},
   "outputs": [
    {
     "name": "stdout",
     "output_type": "stream",
     "text": [
      "0.4999999999999999\n"
     ]
    }
   ],
   "source": [
    "import bogo as bg\n",
    "import numpy as np\n",
    "import time\n",
    "import matplotlib.pyplot as plt\n",
    "from scipy.special import factorial as fac\n",
    "\n",
    "mu = 0.99\n",
    "M = np.array([[1,-mu],[-mu,1]])\n",
    "\n",
    "na = np.array([0,2])\n",
    "nb = np.array([0,2])\n",
    "nA = np.array([1,1])\n",
    "\n",
    "prod_ab = bg.ab(na,nb,M)\n",
    "# prod_bA = bg.bA(nb,nA,M)\n",
    "# prod_aA = bg.aA(na,nA,M)\n",
    "\n",
    "print(prod_ab)\n",
    "# print(prod_bA)\n",
    "# print(prod_aA)\n",
    "\n",
    "\n"
   ]
  },
  {
   "cell_type": "code",
   "execution_count": 3,
   "id": "11314c04",
   "metadata": {},
   "outputs": [
    {
     "name": "stdout",
     "output_type": "stream",
     "text": [
      "0.4999999999999999\n",
      "Time = 0.0\n"
     ]
    }
   ],
   "source": [
    "ma = np.array([0,2])\n",
    "mb = np.array([0,2])\n",
    "t0 = time.time()\n",
    "prod_ab = bg.ab(ma,mb,M)\n",
    "# prod_bA = bg.bA(nb,nA,M)\n",
    "# prod_aA = bg.aA(na,nA,M)\n",
    "t1 = time.time()\n",
    "\n",
    "print(prod_ab)\n",
    "print(\"Time = {}\".format(t1-t0))"
   ]
  },
  {
   "cell_type": "markdown",
   "id": "5de22380",
   "metadata": {},
   "source": [
    "Here some known results using v1,v3 for ab:\n",
    "\n",
    "ab([0,2],[0,2])=0.5\n",
    "\n",
    "ab([0,0],[0,0])=1\n",
    "\n",
    "ab([2,1],[0,3])=-0.6123724356957946\n",
    "\n",
    "ab([2,4],[5,1])=-0.3952847075210471\n",
    "\n",
    "ab([4,4],[4,4])=0.375"
   ]
  },
  {
   "cell_type": "markdown",
   "id": "d49b45a6",
   "metadata": {},
   "source": [
    "Here some known results using v2,v3 for ab:\n",
    "\n",
    "ab([0,2],[0,2])=0.5\n",
    "\n",
    "ab([0,0],[0,0])=1\n",
    "\n",
    "ab([2,1],[0,3])=-0.6123724356957946\n",
    "\n",
    "ab([2,4],[5,1])=-0.3952847075210471\n",
    "\n",
    "ab([4,4],[4,4])=0.375"
   ]
  },
  {
   "cell_type": "markdown",
   "id": "b8e7502f",
   "metadata": {},
   "source": [
    "The time spent for each computed value is on your notes."
   ]
  },
  {
   "cell_type": "markdown",
   "id": "d6bcc17f",
   "metadata": {},
   "source": [
    "Let's add the multipermute package made by Joe and see how it's its performance:\n",
    "\n",
    "Time ab([0,2],[0,2])=0.0009980201721191406\n",
    "\n",
    "Time ab([0,0],[0,0]) --> Error: index 0 is out of bounds for axis 0 with size 0\n",
    "\n",
    "Time ab([2,1],[0,3])=0.001004934310913086\n",
    "\n",
    "Time ab([2,4],[5,1])=0.0010018348693847656\n",
    "\n",
    "Time ab([4,4],[4,4])=0.0049974918365478516 <-- From this point this is an improvement with respect to the previous code!\n",
    "\n",
    "Time ab([6,6],[10,2])=0.004355669021606445\n",
    "\n",
    "Time ab([20,0],[10,10])=12.460918426513672"
   ]
  },
  {
   "cell_type": "markdown",
   "id": "224e1d50",
   "metadata": {},
   "source": [
    "By modifying the ab function (including by hand the ground-ground case) the error doesn't appear anymore.\n",
    "\n",
    "ab([0,0],[0,0])=1.0\n",
    "Time ab([0,0],[0,0]) = 0.0010008811950683594"
   ]
  },
  {
   "cell_type": "code",
   "execution_count": 2,
   "id": "58ebd18b",
   "metadata": {},
   "outputs": [
    {
     "ename": "KeyboardInterrupt",
     "evalue": "",
     "output_type": "error",
     "traceback": [
      "\u001b[1;31m---------------------------------------------------------------------------\u001b[0m",
      "\u001b[1;31mKeyboardInterrupt\u001b[0m                         Traceback (most recent call last)",
      "Input \u001b[1;32mIn [2]\u001b[0m, in \u001b[0;36m<cell line: 5>\u001b[1;34m()\u001b[0m\n\u001b[0;32m      4\u001b[0m res \u001b[38;5;241m=\u001b[39m []\n\u001b[0;32m      5\u001b[0m \u001b[38;5;28;01mfor\u001b[39;00m nb \u001b[38;5;129;01min\u001b[39;00m nbs:\n\u001b[0;32m      6\u001b[0m \u001b[38;5;66;03m#     print(nb)\u001b[39;00m\n\u001b[0;32m      7\u001b[0m \u001b[38;5;66;03m#     print(bg.ab(na,nb,matrix))\u001b[39;00m\n\u001b[1;32m----> 8\u001b[0m     res\u001b[38;5;241m.\u001b[39mappend(\u001b[43mbg\u001b[49m\u001b[38;5;241;43m.\u001b[39;49m\u001b[43mab\u001b[49m\u001b[43m(\u001b[49m\u001b[43mna\u001b[49m\u001b[43m,\u001b[49m\u001b[43mnb\u001b[49m\u001b[43m,\u001b[49m\u001b[43mmatrix\u001b[49m\u001b[43m)\u001b[49m\u001b[38;5;241m*\u001b[39m\u001b[38;5;241m*\u001b[39m\u001b[38;5;241m2\u001b[39m)\n\u001b[0;32m     10\u001b[0m plt\u001b[38;5;241m.\u001b[39mplot(res,\u001b[38;5;124m'\u001b[39m\u001b[38;5;124m.\u001b[39m\u001b[38;5;124m'\u001b[39m)\n\u001b[0;32m     11\u001b[0m plt\u001b[38;5;241m.\u001b[39mplot(res)\n",
      "File \u001b[1;32m~\\bogo\\src\\bogo.py:147\u001b[0m, in \u001b[0;36mab\u001b[1;34m(na, nb, M)\u001b[0m\n\u001b[0;32m    145\u001b[0m \u001b[38;5;28;01mif\u001b[39;00m sym_b\u001b[38;5;241m<\u001b[39m\u001b[38;5;241m=\u001b[39msym_a:\n\u001b[0;32m    146\u001b[0m     \u001b[38;5;28;01mfor\u001b[39;00m bf \u001b[38;5;129;01min\u001b[39;00m mperm(sb):\n\u001b[1;32m--> 147\u001b[0m         sum_result \u001b[38;5;241m+\u001b[39m\u001b[38;5;241m=\u001b[39m sym_b\u001b[38;5;241m*\u001b[39mnp\u001b[38;5;241m.\u001b[39mprod([RR[sa[z],bf[z]] \u001b[38;5;28;01mfor\u001b[39;00m z \u001b[38;5;129;01min\u001b[39;00m \u001b[38;5;28mrange\u001b[39m(np\u001b[38;5;241m.\u001b[39msum(na))])\n\u001b[0;32m    148\u001b[0m \u001b[38;5;28;01melse\u001b[39;00m:\n\u001b[0;32m    149\u001b[0m     \u001b[38;5;28;01mfor\u001b[39;00m af \u001b[38;5;129;01min\u001b[39;00m mperm(sa):\n",
      "File \u001b[1;32m~\\bogo\\src\\bogo.py:147\u001b[0m, in \u001b[0;36m<listcomp>\u001b[1;34m(.0)\u001b[0m\n\u001b[0;32m    145\u001b[0m \u001b[38;5;28;01mif\u001b[39;00m sym_b\u001b[38;5;241m<\u001b[39m\u001b[38;5;241m=\u001b[39msym_a:\n\u001b[0;32m    146\u001b[0m     \u001b[38;5;28;01mfor\u001b[39;00m bf \u001b[38;5;129;01min\u001b[39;00m mperm(sb):\n\u001b[1;32m--> 147\u001b[0m         sum_result \u001b[38;5;241m+\u001b[39m\u001b[38;5;241m=\u001b[39m sym_b\u001b[38;5;241m*\u001b[39mnp\u001b[38;5;241m.\u001b[39mprod([RR[sa[z],bf[z]] \u001b[38;5;28;01mfor\u001b[39;00m z \u001b[38;5;129;01min\u001b[39;00m \u001b[38;5;28mrange\u001b[39m(np\u001b[38;5;241m.\u001b[39msum(na))])\n\u001b[0;32m    148\u001b[0m \u001b[38;5;28;01melse\u001b[39;00m:\n\u001b[0;32m    149\u001b[0m     \u001b[38;5;28;01mfor\u001b[39;00m af \u001b[38;5;129;01min\u001b[39;00m mperm(sa):\n",
      "\u001b[1;31mKeyboardInterrupt\u001b[0m: "
     ]
    }
   ],
   "source": [
    "na = np.array([0,1,11])\n",
    "nbs = bg.n_subspace(len(na),np.sum(na))\n",
    "matrix = np.array([[1,-mu,0],[-mu,1+mu,-mu],[0,-mu,1]])\n",
    "res = []\n",
    "for nb in nbs:\n",
    "#     print(nb)\n",
    "#     print(bg.ab(na,nb,matrix))\n",
    "    res.append(bg.ab(na,nb,matrix)**2)\n",
    "\n",
    "plt.plot(res,'.')\n",
    "plt.plot(res)\n",
    "plt.grid()\n",
    "plt.title('{}'.format(na))\n",
    "plt.show()\n",
    "\n"
   ]
  },
  {
   "cell_type": "code",
   "execution_count": 9,
   "id": "f4f9bc91",
   "metadata": {},
   "outputs": [
    {
     "name": "stdout",
     "output_type": "stream",
     "text": [
      "0\n"
     ]
    }
   ],
   "source": [
    "res = np.array(res)\n",
    "print(len(res[res<1e-10]))"
   ]
  },
  {
   "cell_type": "code",
   "execution_count": 2,
   "id": "5c57594b",
   "metadata": {},
   "outputs": [
    {
     "data": {
      "image/png": "[encoded data removed]",
      "text/plain": [
       "<Figure size 432x288 with 1 Axes>"
      ]
     },
     "metadata": {
      "needs_background": "light"
     },
     "output_type": "display_data"
    },
    {
     "data": {
      "image/png": "[encoded data removed]",
      "text/plain": [
       "<Figure size 432x288 with 1 Axes>"
      ]
     },
     "metadata": {
      "needs_background": "light"
     },
     "output_type": "display_data"
    },
    {
     "name": "stdout",
     "output_type": "stream",
     "text": [
      "0.17203365968410034\n",
      "-1.1512925464970223\n"
     ]
    }
   ],
   "source": [
    "Mu = np.linspace(0,0.99,300)\n",
    "omega_p = np.sqrt(Mu+1)\n",
    "omega_m = np.sqrt(1-Mu)\n",
    "eta_p = np.arctanh((omega_p-1)/(omega_p+1))\n",
    "eta_m = np.arctanh((omega_m-1)/(omega_m+1))\n",
    "\n",
    "plt.plot(Mu,eta_p)\n",
    "plt.show()\n",
    "plt.plot(Mu,eta_m)\n",
    "plt.show()\n",
    "\n",
    "print(np.max(eta_p))\n",
    "print(np.min(eta_m))"
   ]
  },
  {
   "cell_type": "code",
   "execution_count": 11,
   "id": "a0c2c32d",
   "metadata": {},
   "outputs": [
    {
     "data": {
      "image/png": "[encoded data removed]",
      "text/plain": [
       "<Figure size 432x288 with 2 Axes>"
      ]
     },
     "metadata": {
      "needs_background": "light"
     },
     "output_type": "display_data"
    }
   ],
   "source": [
    "m = 50\n",
    "ns = np.arange(0,100)\n",
    "\n",
    "# NS,ETA = np.meshgrid(ns,eta_m)\n",
    "NS,ETA = np.meshgrid(ns,eta_p)\n",
    "\n",
    "PROB = (np.vectorize(bg.single)(m,NS,ETA))**2\n",
    "\n",
    "# plt.contourf(ns,-eta_m,PROB,levels=30)\n",
    "# plt.ylabel('- eta')\n",
    "\n",
    "plt.contourf(ns,eta_p,PROB,levels=30)\n",
    "plt.ylabel('eta')\n",
    "\n",
    "plt.xlabel('ns')\n",
    "plt.colorbar()\n",
    "plt.title('m={}'.format(m))\n",
    "\n",
    "# plt.vlines(m,np.max(eta_m),-np.min(eta_m),'red')\n",
    "# plt.vlines(m+20,np.max(eta_m),-np.min(eta_m),'white',linestyle='dashed')\n",
    "# plt.vlines(m-20,np.max(eta_m),-np.min(eta_m),'white',linestyle='dashed')\n",
    "\n",
    "plt.vlines(m,np.min(eta_p),np.max(eta_p),'red')\n",
    "plt.vlines(m+15,np.min(eta_p),np.max(eta_p),'white',linestyle='dashed')\n",
    "plt.vlines(m-15,np.min(eta_p),np.max(eta_p),'white',linestyle='dashed')\n",
    "\n",
    "plt.show()"
   ]
  },
  {
   "cell_type": "markdown",
   "id": "d6ca98bb",
   "metadata": {},
   "source": [
    "For the squeezing step in the 2 oscillators case in one of the modes the squeezing parameter is negative (there when omega=sqrt(1-mu)). In that case the number distribution for the possible values of eta is not concentrated near to the  original value, as it happens for the case where omega=sqrt(1+mu). The plots obtained in the cell above show this behaviour.\n",
    "\n",
    "When eta_p is selected the plot shows how the distribution is centered around the red line and bounded by the dashed lines for general values of m. When eta_m is selected the distribution splits in two lines that go far from the center, making that most of the number distribution lays out of the boundaries. "
   ]
  }
 ],
 "metadata": {
  "kernelspec": {
   "display_name": "Python 3 (ipykernel)",
   "language": "python",
   "name": "python3"
  },
  "language_info": {
   "codemirror_mode": {
    "name": "ipython",
    "version": 3
   },
   "file_extension": ".py",
   "mimetype": "text/x-python",
   "name": "python",
   "nbconvert_exporter": "python",
   "pygments_lexer": "ipython3",
   "version": "3.9.12"
  }
 },
 "nbformat": 4,
 "nbformat_minor": 5
}
