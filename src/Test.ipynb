{
 "cells": [
  {
   "cell_type": "code",
   "execution_count": 1,
   "id": "96b8beaf",
   "metadata": {},
   "outputs": [
    {
     "name": "stdout",
     "output_type": "stream",
     "text": [
      "0.4999999999999999\n"
     ]
    }
   ],
   "source": [
    "import bogo as bg\n",
    "import numpy as np\n",
    "import time\n",
    "import matplotlib.pyplot as plt\n",
    "from scipy.special import factorial as fac\n",
    "\n",
    "mu = 0.99\n",
    "M = np.array([[1,-mu],[-mu,1]])\n",
    "\n",
    "na = np.array([0,2])\n",
    "nb = np.array([0,2])\n",
    "nA = np.array([1,1])\n",
    "\n",
    "prod_ab = bg.ab(na,nb,M)\n",
    "# prod_bA = bg.bA(nb,nA,M)\n",
    "# prod_aA = bg.aA(na,nA,M)\n",
    "\n",
    "print(prod_ab)\n",
    "# print(prod_bA)\n",
    "# print(prod_aA)\n",
    "\n",
    "\n"
   ]
  },
  {
   "cell_type": "code",
   "execution_count": 3,
   "id": "11314c04",
   "metadata": {},
   "outputs": [
    {
     "name": "stdout",
     "output_type": "stream",
     "text": [
      "0.4999999999999999\n",
      "Time = 0.0\n"
     ]
    }
   ],
   "source": [
    "ma = np.array([0,2])\n",
    "mb = np.array([0,2])\n",
    "t0 = time.time()\n",
    "prod_ab = bg.ab(ma,mb,M)\n",
    "# prod_bA = bg.bA(nb,nA,M)\n",
    "# prod_aA = bg.aA(na,nA,M)\n",
    "t1 = time.time()\n",
    "\n",
    "print(prod_ab)\n",
    "print(\"Time = {}\".format(t1-t0))"
   ]
  },
  {
   "cell_type": "markdown",
   "id": "5de22380",
   "metadata": {},
   "source": [
    "Here some known results using v1,v3 for ab:\n",
    "\n",
    "ab([0,2],[0,2])=0.5\n",
    "\n",
    "ab([0,0],[0,0])=1\n",
    "\n",
    "ab([2,1],[0,3])=-0.6123724356957946\n",
    "\n",
    "ab([2,4],[5,1])=-0.3952847075210471\n",
    "\n",
    "ab([4,4],[4,4])=0.375"
   ]
  },
  {
   "cell_type": "markdown",
   "id": "d49b45a6",
   "metadata": {},
   "source": [
    "Here some known results using v2,v3 for ab:\n",
    "\n",
    "ab([0,2],[0,2])=0.5\n",
    "\n",
    "ab([0,0],[0,0])=1\n",
    "\n",
    "ab([2,1],[0,3])=-0.6123724356957946\n",
    "\n",
    "ab([2,4],[5,1])=-0.3952847075210471\n",
    "\n",
    "ab([4,4],[4,4])=0.375"
   ]
  },
  {
   "cell_type": "markdown",
   "id": "b8e7502f",
   "metadata": {},
   "source": [
    "The time spent for each computed value is on your notes."
   ]
  },
  {
   "cell_type": "markdown",
   "id": "d6bcc17f",
   "metadata": {},
   "source": [
    "Let's add the multipermute package made by Joe and see how it's its performance:\n",
    "\n",
    "Time ab([0,2],[0,2])=0.0009980201721191406\n",
    "\n",
    "Time ab([0,0],[0,0]) --> Error: index 0 is out of bounds for axis 0 with size 0\n",
    "\n",
    "Time ab([2,1],[0,3])=0.001004934310913086\n",
    "\n",
    "Time ab([2,4],[5,1])=0.0010018348693847656\n",
    "\n",
    "Time ab([4,4],[4,4])=0.0049974918365478516 <-- From this point this is an improvement with respect to the previous code!\n",
    "\n",
    "Time ab([6,6],[10,2])=0.004355669021606445\n",
    "\n",
    "Time ab([20,0],[10,10])=12.460918426513672"
   ]
  },
  {
   "cell_type": "markdown",
   "id": "224e1d50",
   "metadata": {},
   "source": [
    "By modifying the ab function (including by hand the ground-ground case) the error doesn't appear anymore.\n",
    "\n",
    "ab([0,0],[0,0])=1.0\n",
    "Time ab([0,0],[0,0]) = 0.0010008811950683594"
   ]
  },
  {
   "cell_type": "code",
   "execution_count": 19,
   "id": "58ebd18b",
   "metadata": {},
   "outputs": [
    {
     "name": "stdout",
     "output_type": "stream",
     "text": [
      "[ 0  0 13]\n",
      "[ 0  1 12]\n",
      "[ 0  2 11]\n",
      "[ 0  3 10]\n",
      "[0 4 9]\n",
      "[0 5 8]\n",
      "[0 6 7]\n",
      "[0 7 6]\n",
      "[0 8 5]\n",
      "[0 9 4]\n",
      "[ 0 10  3]\n",
      "[ 0 11  2]\n",
      "[ 0 12  1]\n",
      "[ 0 13  0]\n",
      "[ 1  0 12]\n",
      "[ 1  1 11]\n",
      "[ 1  2 10]\n",
      "[1 3 9]\n",
      "[1 4 8]\n",
      "[1 5 7]\n",
      "[1 6 6]\n",
      "[1 7 5]\n",
      "[1 8 4]\n",
      "[1 9 3]\n",
      "[ 1 10  2]\n",
      "[ 1 11  1]\n",
      "[ 1 12  0]\n",
      "[ 2  0 11]\n",
      "[ 2  1 10]\n",
      "[2 2 9]\n",
      "[2 3 8]\n",
      "[2 4 7]\n",
      "[2 5 6]\n",
      "[2 6 5]\n",
      "[2 7 4]\n",
      "[2 8 3]\n",
      "[2 9 2]\n",
      "[ 2 10  1]\n",
      "[ 2 11  0]\n",
      "[ 3  0 10]\n",
      "[3 1 9]\n",
      "[3 2 8]\n",
      "[3 3 7]\n",
      "[3 4 6]\n",
      "[3 5 5]\n",
      "[3 6 4]\n",
      "[3 7 3]\n",
      "[3 8 2]\n",
      "[3 9 1]\n",
      "[ 3 10  0]\n",
      "[4 0 9]\n",
      "[4 1 8]\n",
      "[4 2 7]\n",
      "[4 3 6]\n",
      "[4 4 5]\n",
      "[4 5 4]\n",
      "[4 6 3]\n",
      "[4 7 2]\n",
      "[4 8 1]\n",
      "[4 9 0]\n",
      "[5 0 8]\n",
      "[5 1 7]\n",
      "[5 2 6]\n",
      "[5 3 5]\n",
      "[5 4 4]\n",
      "[5 5 3]\n",
      "[5 6 2]\n",
      "[5 7 1]\n",
      "[5 8 0]\n",
      "[6 0 7]\n",
      "[6 1 6]\n",
      "[6 2 5]\n",
      "[6 3 4]\n",
      "[6 4 3]\n",
      "[6 5 2]\n",
      "[6 6 1]\n",
      "[6 7 0]\n",
      "[7 0 6]\n",
      "[7 1 5]\n",
      "[7 2 4]\n",
      "[7 3 3]\n",
      "[7 4 2]\n",
      "[7 5 1]\n",
      "[7 6 0]\n",
      "[8 0 5]\n",
      "[8 1 4]\n",
      "[8 2 3]\n",
      "[8 3 2]\n",
      "[8 4 1]\n",
      "[8 5 0]\n",
      "[9 0 4]\n",
      "[9 1 3]\n",
      "[9 2 2]\n",
      "[9 3 1]\n",
      "[9 4 0]\n",
      "[10  0  3]\n",
      "[10  1  2]\n",
      "[10  2  1]\n",
      "[10  3  0]\n",
      "[11  0  2]\n",
      "[11  1  1]\n",
      "[11  2  0]\n",
      "[12  0  1]\n",
      "[12  1  0]\n",
      "[13  0  0]\n"
     ]
    },
    {
     "data": {
      "image/png": "[encoded data removed]",
      "text/plain": [
       "<Figure size 432x288 with 1 Axes>"
      ]
     },
     "metadata": {
      "needs_background": "light"
     },
     "output_type": "display_data"
    }
   ],
   "source": [
    "na = np.array([13,0,0])\n",
    "nbs = bg.n_subspace(len(na),np.sum(na))\n",
    "matrix = np.array([[1,-mu,0],[-mu,1+mu,-mu],[0,-mu,1]])\n",
    "res = []\n",
    "for nb in nbs:\n",
    "#     print(nb)\n",
    "#     print(bg.ab(na,nb,matrix))\n",
    "    res.append(bg.ab(na,nb,matrix)**2)\n",
    "\n",
    "plt.plot(res)\n",
    "plt.plot(res,'.')\n",
    "plt.grid(alpha=0.002)\n",
    "plt.title('{}'.format(na))\n",
    "plt.show()\n",
    "\n"
   ]
  },
  {
   "cell_type": "code",
   "execution_count": 31,
   "id": "b0421142",
   "metadata": {},
   "outputs": [
    {
     "name": "stdout",
     "output_type": "stream",
     "text": [
      "[[ 0  0 13]\n",
      " [ 0  1 12]\n",
      " [ 0  2 11]\n",
      " [ 0  3 10]\n",
      " [ 0  4  9]\n",
      " [ 0  5  8]\n",
      " [ 0  6  7]\n",
      " [ 0  7  6]\n",
      " [ 0  8  5]\n",
      " [ 0  9  4]\n",
      " [ 0 10  3]\n",
      " [ 0 11  2]\n",
      " [ 0 12  1]\n",
      " [ 0 13  0]]\n",
      "[6.27225474e-07 8.15393117e-06 4.89235870e-05 1.79386486e-04\n",
      " 4.48466214e-04 8.07239186e-04 1.07631891e-03 1.07631891e-03\n",
      " 8.07239186e-04 4.48466214e-04 1.79386486e-04 4.89235870e-05\n",
      " 8.15393117e-06 6.27225474e-07]\n"
     ]
    },
    {
     "data": {
      "image/png": "[encoded data removed]",
      "text/plain": [
       "<Figure size 432x288 with 2 Axes>"
      ]
     },
     "metadata": {
      "needs_background": "light"
     },
     "output_type": "display_data"
    }
   ],
   "source": [
    "print(nbs[nbs[:,0]==0])\n",
    "print(np.array(res)[nbs[:,0]==0])\n",
    "A = nbs[nbs[:,0]==0]\n",
    "x = A[:,1]\n",
    "y = A[:,2]\n",
    "z = np.array(res)[nbs[:,0]==0]\n",
    "\n",
    "\n",
    "plt.scatter(x,y,c=z)\n",
    "plt.colorbar()\n",
    "plt.show()"
   ]
  },
  {
   "cell_type": "code",
   "execution_count": 9,
   "id": "f4f9bc91",
   "metadata": {},
   "outputs": [
    {
     "name": "stdout",
     "output_type": "stream",
     "text": [
      "0\n"
     ]
    }
   ],
   "source": [
    "res = np.array(res)\n",
    "print(len(res[res<1e-10]))"
   ]
  },
  {
   "cell_type": "code",
   "execution_count": 2,
   "id": "5c57594b",
   "metadata": {},
   "outputs": [
    {
     "data": {
      "image/png": "[encoded data removed]",
      "text/plain": [
       "<Figure size 432x288 with 1 Axes>"
      ]
     },
     "metadata": {
      "needs_background": "light"
     },
     "output_type": "display_data"
    },
    {
     "data": {
      "image/png": "[encoded data removed]",
      "text/plain": [
       "<Figure size 432x288 with 1 Axes>"
      ]
     },
     "metadata": {
      "needs_background": "light"
     },
     "output_type": "display_data"
    }
   ],
   "source": [
    "Mu = np.linspace(0,0.99,300)\n",
    "omega_p = np.sqrt(Mu+1)\n",
    "omega_m = np.sqrt(1-Mu)\n",
    "eta_p = np.arctanh((omega_p-1)/(omega_p+1))\n",
    "eta_m = np.arctanh((omega_m-1)/(omega_m+1))\n",
    "\n",
    "plt.plot(Mu,eta_p)\n",
    "plt.xlabel(r'$\\mu$')\n",
    "plt.ylabel(r'$\\eta_+$')\n",
    "plt.show()\n",
    "plt.plot(Mu,eta_m)\n",
    "plt.xlabel(r'$\\mu$')\n",
    "plt.ylabel(r'$\\eta_-$')\n",
    "plt.show()"
   ]
  },
  {
   "cell_type": "code",
   "execution_count": 4,
   "id": "a0c2c32d",
   "metadata": {},
   "outputs": [
    {
     "data": {
      "image/png": "[encoded data removed]",
      "text/plain": [
       "<Figure size 504x360 with 2 Axes>"
      ]
     },
     "metadata": {
      "needs_background": "light"
     },
     "output_type": "display_data"
    }
   ],
   "source": [
    "m = 40\n",
    "ns = np.arange(0,100)\n",
    "\n",
    "NS,ETA = np.meshgrid(ns,eta_p)\n",
    "\n",
    "PROB = (np.vectorize(bg.fast_single)(m,NS,ETA))**2\n",
    "\n",
    "plt.figure(figsize=(7,5))\n",
    "\n",
    "plt.contourf(ns,eta_p,PROB,levels=30)\n",
    "plt.ylabel(r'$\\eta_+$')\n",
    "\n",
    "plt.xlabel('ns')\n",
    "plt.colorbar()\n",
    "plt.title('m={}'.format(m))\n",
    "\n",
    "plt.vlines(m,np.min(eta_p),np.max(eta_p),'red')\n",
    "plt.vlines(m+0.25*m+1,np.min(eta_p),np.max(eta_p),'white',linestyle='dashed')\n",
    "plt.vlines(m-(0.25*m+1),np.min(eta_p),np.max(eta_p),'white',linestyle='dashed')\n",
    "\n",
    "plt.show()"
   ]
  },
  {
   "cell_type": "code",
   "execution_count": null,
   "id": "9f264130",
   "metadata": {},
   "outputs": [],
   "source": [
    "m = 50\n",
    "ns = np.arange(0,100)\n",
    "\n",
    "NS,ETA = np.meshgrid(ns,eta_m)\n",
    "\n",
    "PROB = (np.vectorize(bg.fast_single)(m,NS,ETA))**2\n",
    "\n",
    "plt.figure(figsize=(7,5))\n",
    "\n",
    "# plt.contourf(ns,-eta_m,PROB,levels=30)\n",
    "plt.contourf(ns,-eta_m,PROB,levels=30)\n",
    "plt.ylabel(r'$-\\eta_-$')\n",
    "\n",
    "plt.xlabel('ns')\n",
    "plt.colorbar()\n",
    "plt.title('m={}'.format(m))\n",
    "\n",
    "plt.vlines(m,np.max(eta_m),-np.min(eta_m),'red')\n",
    "plt.vlines(m+20,np.max(eta_m),-np.min(eta_m),'white',linestyle='dashed')\n",
    "plt.vlines(m-20,np.max(eta_m),-np.min(eta_m),'white',linestyle='dashed')\n",
    "\n",
    "plt.show()"
   ]
  },
  {
   "cell_type": "markdown",
   "id": "d6ca98bb",
   "metadata": {},
   "source": [
    "For the squeezing step in the 2 oscillators case in one of the modes the squeezing parameter is negative (there when omega=sqrt(1-mu)). In that case the number distribution for the possible values of eta is not concentrated near to the  original value, as it happens for the case where omega=sqrt(1+mu). The plots obtained in the cell above show this behaviour.\n",
    "\n",
    "When eta_p is selected the plot shows how the distribution is centered around the red line and bounded by the dashed lines for general values of m. When eta_m is selected the distribution splits in two lines that go far from the center, making that most of the number distribution lays out of the boundaries. "
   ]
  },
  {
   "cell_type": "code",
   "execution_count": 18,
   "id": "b14ad7cb",
   "metadata": {},
   "outputs": [
    {
     "name": "stderr",
     "output_type": "stream",
     "text": [
      "C:\\Users\\Eric\\bogo\\src\\bogo.py:52: RuntimeWarning: overflow encountered in double_scalars\n",
      "  prefactor = (np.sqrt(fac(m)*fac(n)))/((np.cosh(eta))**((n+m+1)/2))\n"
     ]
    },
    {
     "data": {
      "image/png": "[encoded data removed]",
      "text/plain": [
       "<Figure size 432x288 with 1 Axes>"
      ]
     },
     "metadata": {
      "needs_background": "light"
     },
     "output_type": "display_data"
    }
   ],
   "source": [
    "Eta_m = np.min(eta_m)\n",
    "ms = np.arange(0,100)\n",
    "ns = np.arange(0,100)\n",
    "Var = []\n",
    "\n",
    "for m in ms:\n",
    "    dist = (np.vectorize(bg.single)(m,ns,Eta_m))**2\n",
    "    var = np.dot((ns-m)**2,dist)\n",
    "    Var.append(var)\n",
    "\n",
    "Var = np.sqrt(np.array(Var))\n",
    "\n",
    "# plt.plot(ms[ms<20],Var[ms<20])\n",
    "plt.plot(ms,Var)\n",
    "# plt.plot(ms[ms<20],ms[ms<20]*0.255+0.3)\n",
    "plt.show()\n",
    "\n",
    "\n",
    "# ms_1 = ms[:-1]\n",
    "\n",
    "# Dy = np.diff(Var)\n",
    "# plt.plot(ms_1[ms_1<60],Dy[ms_1<60])\n",
    "# plt.hlines(np.max(Dy[ms_1<60]),0,60,'red',linestyle='dashed')\n",
    "# plt.yscale('log')\n",
    "# # plt.xscale('log')\n",
    "# plt.show() \n",
    "\n",
    "# print(np.max(Dy[ms_1<60]))"
   ]
  }
 ],
 "metadata": {
  "kernelspec": {
   "display_name": "Python 3 (ipykernel)",
   "language": "python",
   "name": "python3"
  },
  "language_info": {
   "codemirror_mode": {
    "name": "ipython",
    "version": 3
   },
   "file_extension": ".py",
   "mimetype": "text/x-python",
   "name": "python",
   "nbconvert_exporter": "python",
   "pygments_lexer": "ipython3",
   "version": "3.9.12"
  }
 },
 "nbformat": 4,
 "nbformat_minor": 5
}
