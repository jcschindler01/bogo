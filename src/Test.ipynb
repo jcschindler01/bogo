{
 "cells": [
  {
   "cell_type": "code",
   "execution_count": null,
   "id": "96b8beaf",
   "metadata": {},
   "outputs": [],
   "source": [
    "import bogo as bg\n",
    "import numpy as np\n",
    "import time\n",
    "\n",
    "mu = 0.5\n",
    "M = np.array([[1,-mu],[-mu,1]])\n",
    "\n",
    "k = 6\n",
    "na = np.array([k,k])\n",
    "nb = np.array([k,k])\n",
    "nA = np.array([4,4])\n",
    "\n",
    "t0 = time.time()\n",
    "prod_ab = bg.ab(na,nb,M)\n",
    "# prod_bA = bg.bA(nb,nA,M)\n",
    "# prod_aA = bg.aA(na,nA,M)\n",
    "t1 = time.time()\n",
    "\n",
    "print(prod_ab)\n",
    "\n",
    "print(\"Time = {}\".format(t1-t0))\n"
   ]
  },
  {
   "cell_type": "code",
   "execution_count": null,
   "id": "11314c04",
   "metadata": {},
   "outputs": [],
   "source": []
  }
 ],
 "metadata": {
  "kernelspec": {
   "display_name": "Python 3 (ipykernel)",
   "language": "python",
   "name": "python3"
  },
  "language_info": {
   "codemirror_mode": {
    "name": "ipython",
    "version": 3
   },
   "file_extension": ".py",
   "mimetype": "text/x-python",
   "name": "python",
   "nbconvert_exporter": "python",
   "pygments_lexer": "ipython3",
   "version": "3.9.12"
  }
 },
 "nbformat": 4,
 "nbformat_minor": 5
}
