{
 "cells": [
  {
   "cell_type": "code",
   "execution_count": 1,
   "id": "96b8beaf",
   "metadata": {},
   "outputs": [
    {
     "name": "stdout",
     "output_type": "stream",
     "text": [
      "0.4999999999999998\n"
     ]
    }
   ],
   "source": [
    "import bogo as bg\n",
    "import numpy as np\n",
    "import time\n",
    "\n",
    "mu = 0.5\n",
    "M = np.array([[1,-mu],[-mu,1]])\n",
    "\n",
    "na = np.array([0,2])\n",
    "nb = np.array([0,2])\n",
    "nA = np.array([1,1])\n",
    "\n",
    "prod_ab = bg.ab(na,nb,M)\n",
    "# prod_bA = bg.bA(nb,nA,M)\n",
    "# prod_aA = bg.aA(na,nA,M)\n",
    "\n",
    "print(prod_ab)\n",
    "# print(prod_bA)\n",
    "# print(prod_aA)\n",
    "\n",
    "\n"
   ]
  },
  {
   "cell_type": "code",
   "execution_count": 23,
   "id": "11314c04",
   "metadata": {},
   "outputs": [
    {
     "name": "stdout",
     "output_type": "stream",
     "text": [
      "0.7071067811865474\n",
      "Time = 0.0\n"
     ]
    }
   ],
   "source": [
    "ma = np.array([2,0])\n",
    "mb = np.array([1,1])\n",
    "t0 = time.time()\n",
    "prod_ab = bg.ab(ma,mb,M)\n",
    "# prod_bA = bg.bA(nb,nA,M)\n",
    "# prod_aA = bg.aA(na,nA,M)\n",
    "t1 = time.time()\n",
    "\n",
    "print(prod_ab)\n",
    "print(\"Time = {}\".format(t1-t0))"
   ]
  },
  {
   "cell_type": "markdown",
   "id": "5de22380",
   "metadata": {},
   "source": [
    "Here some known results using v1,v3 for ab:\n",
    "\n",
    "ab([0,2],[0,2])=0.5\n",
    "\n",
    "ab([0,0],[0,0])=1\n",
    "\n",
    "ab([2,1],[0,3])=-0.6123724356957946\n",
    "\n",
    "ab([2,4],[5,1])=-0.3952847075210471\n",
    "\n",
    "ab([4,4],[4,4])=0.375"
   ]
  },
  {
   "cell_type": "markdown",
   "id": "d49b45a6",
   "metadata": {},
   "source": [
    "Here some known results using v2,v3 for ab:\n",
    "\n",
    "ab([0,2],[0,2])=0.5\n",
    "\n",
    "ab([0,0],[0,0])=1\n",
    "\n",
    "ab([2,1],[0,3])=-0.6123724356957946\n",
    "\n",
    "ab([2,4],[5,1])=-0.3952847075210471\n",
    "\n",
    "ab([4,4],[4,4])=0.375"
   ]
  },
  {
   "cell_type": "markdown",
   "id": "b8e7502f",
   "metadata": {},
   "source": [
    "The time spent for each computed value is on your notes."
   ]
  },
  {
   "cell_type": "markdown",
   "id": "d6bcc17f",
   "metadata": {},
   "source": [
    "Let's add the multipermute package made by Joe and see how it's its performance:\n",
    "\n",
    "Time ab([0,2],[0,2])=0.0\n",
    "\n",
    "Time ab([0,0],[0,0]) --> Error: index 0 is out of bounds for axis 0 with size 0\n",
    "\n",
    "Time ab([2,1],[0,3])=0.001004934310913086\n",
    "\n",
    "Time ab([2,4],[5,1])=0.0010018348693847656\n",
    "\n",
    "Time ab([4,4],[4,4])=0.0049974918365478516 <-- From this point this is an improvement with respect to the previous code!\n",
    "\n",
    "Time ab([6,6],[10,2])=0.004355669021606445\n",
    "\n",
    "Time ab([20,0],[10,10])=12.460918426513672"
   ]
  }
 ],
 "metadata": {
  "kernelspec": {
   "display_name": "Python 3 (ipykernel)",
   "language": "python",
   "name": "python3"
  },
  "language_info": {
   "codemirror_mode": {
    "name": "ipython",
    "version": 3
   },
   "file_extension": ".py",
   "mimetype": "text/x-python",
   "name": "python",
   "nbconvert_exporter": "python",
   "pygments_lexer": "ipython3",
   "version": "3.9.12"
  }
 },
 "nbformat": 4,
 "nbformat_minor": 5
}
